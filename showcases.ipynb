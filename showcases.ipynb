{
 "cells": [
  {
   "cell_type": "code",
   "execution_count": 1,
   "metadata": {},
   "outputs": [],
   "source": [
    "%load_ext autotime"
   ]
  },
  {
   "cell_type": "markdown",
   "metadata": {},
   "source": [
    "---"
   ]
  },
  {
   "cell_type": "markdown",
   "metadata": {},
   "source": [
    "### Conventions"
   ]
  },
  {
   "cell_type": "markdown",
   "metadata": {},
   "source": [
    "| entity | semantic |\n",
    "|-|-|\n",
    "| `data_` | dataframes containing both raw data and targets |\n",
    "| `i_` | indices in `data_` objects |\n",
    "| `y_` | targets |\n",
    "| `f_` | features |\n",
    "| `p_` | predictions of models (incl. cross-validated) |\n",
    "| `q_` | quality metrics (log loss) |\n",
    "| `t_` | transformers |"
   ]
  },
  {
   "cell_type": "markdown",
   "metadata": {},
   "source": [
    "---"
   ]
  },
  {
   "cell_type": "markdown",
   "metadata": {},
   "source": [
    "### Data"
   ]
  },
  {
   "cell_type": "code",
   "execution_count": 2,
   "metadata": {},
   "outputs": [
    {
     "name": "stdout",
     "output_type": "stream",
     "text": [
      "time: 3.8 s\n"
     ]
    }
   ],
   "source": [
    "import pandas"
   ]
  },
  {
   "cell_type": "code",
   "execution_count": 3,
   "metadata": {},
   "outputs": [
    {
     "name": "stdout",
     "output_type": "stream",
     "text": [
      "time: 533 ms\n"
     ]
    }
   ],
   "source": [
    "data_train = pandas.read_csv('./input/train.csv')\n",
    "data_test = pandas.read_csv('./input/test.csv')\n",
    "data = pandas.concat([data_train, data_test], ignore_index=True)"
   ]
  },
  {
   "cell_type": "code",
   "execution_count": 4,
   "metadata": {},
   "outputs": [
    {
     "name": "stdout",
     "output_type": "stream",
     "text": [
      "time: 86.7 ms\n"
     ]
    }
   ],
   "source": [
    "y = data.author\n",
    "\n",
    "i_train = ~y.isnull()\n",
    "i_test = y.isnull()\n",
    "\n",
    "y_train = y[i_train]\n",
    "y_test = y[i_test]"
   ]
  },
  {
   "cell_type": "markdown",
   "metadata": {},
   "source": [
    "---"
   ]
  },
  {
   "cell_type": "markdown",
   "metadata": {},
   "source": [
    "### Features"
   ]
  },
  {
   "cell_type": "markdown",
   "metadata": {},
   "source": [
    "##### Basic features"
   ]
  },
  {
   "cell_type": "code",
   "execution_count": 5,
   "metadata": {},
   "outputs": [
    {
     "name": "stdout",
     "output_type": "stream",
     "text": [
      "time: 54.6 ms\n"
     ]
    }
   ],
   "source": [
    "import re"
   ]
  },
  {
   "cell_type": "code",
   "execution_count": 6,
   "metadata": {},
   "outputs": [
    {
     "name": "stdout",
     "output_type": "stream",
     "text": [
      "time: 84 ms\n"
     ]
    }
   ],
   "source": [
    "def words(s):\n",
    "    return re.findall(r'\\w+', s)"
   ]
  },
  {
   "cell_type": "markdown",
   "metadata": {},
   "source": [
    "Number of words:"
   ]
  },
  {
   "cell_type": "code",
   "execution_count": 7,
   "metadata": {},
   "outputs": [
    {
     "name": "stdout",
     "output_type": "stream",
     "text": [
      "time: 300 ms\n"
     ]
    }
   ],
   "source": [
    "f_n_words = (\n",
    "    data[\"text\"]\n",
    "    .apply(lambda s: len(words(s)))\n",
    "    .as_matrix()\n",
    "    [:, None]\n",
    ")"
   ]
  },
  {
   "cell_type": "markdown",
   "metadata": {},
   "source": [
    "Number of unique words:"
   ]
  },
  {
   "cell_type": "code",
   "execution_count": 8,
   "metadata": {},
   "outputs": [
    {
     "name": "stdout",
     "output_type": "stream",
     "text": [
      "time: 328 ms\n"
     ]
    }
   ],
   "source": [
    "f_n_unique_words = (\n",
    "    data[\"text\"]\n",
    "    .apply(lambda s: len(set(words(s.lower()))))\n",
    "    .as_matrix()\n",
    "    [:, None]\n",
    ")"
   ]
  },
  {
   "cell_type": "markdown",
   "metadata": {},
   "source": [
    "Length of text:"
   ]
  },
  {
   "cell_type": "code",
   "execution_count": 9,
   "metadata": {},
   "outputs": [
    {
     "name": "stdout",
     "output_type": "stream",
     "text": [
      "time: 14.7 ms\n"
     ]
    }
   ],
   "source": [
    "f_n_chars = (\n",
    "    data[\"text\"]\n",
    "    .apply(lambda s: len(s))\n",
    "    .as_matrix()\n",
    "    [:, None]\n",
    ")"
   ]
  },
  {
   "cell_type": "markdown",
   "metadata": {},
   "source": [
    "Number of stopwords:"
   ]
  },
  {
   "cell_type": "code",
   "execution_count": 10,
   "metadata": {},
   "outputs": [
    {
     "name": "stdout",
     "output_type": "stream",
     "text": [
      "time: 5.49 s\n"
     ]
    }
   ],
   "source": [
    "from nltk.corpus import stopwords"
   ]
  },
  {
   "cell_type": "code",
   "execution_count": 11,
   "metadata": {},
   "outputs": [
    {
     "name": "stdout",
     "output_type": "stream",
     "text": [
      "time: 120 ms\n"
     ]
    }
   ],
   "source": [
    "english_stopwords = set(stopwords.words(\"english\"))"
   ]
  },
  {
   "cell_type": "code",
   "execution_count": 12,
   "metadata": {},
   "outputs": [
    {
     "name": "stdout",
     "output_type": "stream",
     "text": [
      "time: 480 ms\n"
     ]
    }
   ],
   "source": [
    "f_n_stopwords = (\n",
    "    data[\"text\"]\n",
    "    .apply(lambda s: len([\n",
    "        w\n",
    "        for w in words(s.lower())\n",
    "        if w in english_stopwords\n",
    "    ]))\n",
    "    .as_matrix()\n",
    "    [:, None]\n",
    ")"
   ]
  },
  {
   "cell_type": "markdown",
   "metadata": {},
   "source": [
    "Number of punctuation characters:"
   ]
  },
  {
   "cell_type": "code",
   "execution_count": 13,
   "metadata": {},
   "outputs": [
    {
     "name": "stdout",
     "output_type": "stream",
     "text": [
      "time: 630 µs\n"
     ]
    }
   ],
   "source": [
    "import string"
   ]
  },
  {
   "cell_type": "code",
   "execution_count": 14,
   "metadata": {},
   "outputs": [
    {
     "name": "stdout",
     "output_type": "stream",
     "text": [
      "time: 693 ms\n"
     ]
    }
   ],
   "source": [
    "f_n_punct = (\n",
    "    data[\"text\"]\n",
    "    .apply(lambda s: len([\n",
    "        c\n",
    "        for c in s\n",
    "        if c in string.punctuation\n",
    "    ]))\n",
    "    .as_matrix()\n",
    "    [:, None]\n",
    ")"
   ]
  },
  {
   "cell_type": "markdown",
   "metadata": {},
   "source": [
    "Number of upper-case words:"
   ]
  },
  {
   "cell_type": "code",
   "execution_count": 15,
   "metadata": {},
   "outputs": [
    {
     "name": "stdout",
     "output_type": "stream",
     "text": [
      "time: 311 ms\n"
     ]
    }
   ],
   "source": [
    "f_n_upper_words = (\n",
    "    data[\"text\"]\n",
    "    .apply(lambda s: len([\n",
    "        w\n",
    "        for w in words(s)\n",
    "        if w.isupper()\n",
    "    ]))\n",
    "    .as_matrix()\n",
    "    [:, None]\n",
    ")"
   ]
  },
  {
   "cell_type": "markdown",
   "metadata": {},
   "source": [
    "Number of title-case words:"
   ]
  },
  {
   "cell_type": "code",
   "execution_count": 16,
   "metadata": {},
   "outputs": [
    {
     "name": "stdout",
     "output_type": "stream",
     "text": [
      "time: 299 ms\n"
     ]
    }
   ],
   "source": [
    "f_n_title_words = (\n",
    "    data[\"text\"]\n",
    "    .apply(lambda s: len([\n",
    "        w\n",
    "        for w in words(s)\n",
    "        if w.istitle()\n",
    "    ]))\n",
    "    .as_matrix()\n",
    "    [:, None]\n",
    ")"
   ]
  },
  {
   "cell_type": "markdown",
   "metadata": {},
   "source": [
    "Mean length of words:"
   ]
  },
  {
   "cell_type": "code",
   "execution_count": 17,
   "metadata": {},
   "outputs": [
    {
     "name": "stdout",
     "output_type": "stream",
     "text": [
      "time: 607 µs\n"
     ]
    }
   ],
   "source": [
    "import numpy"
   ]
  },
  {
   "cell_type": "code",
   "execution_count": 18,
   "metadata": {},
   "outputs": [
    {
     "name": "stdout",
     "output_type": "stream",
     "text": [
      "time: 1.09 s\n"
     ]
    }
   ],
   "source": [
    "f_mean_word_length = (\n",
    "    data[\"text\"]\n",
    "    .apply(lambda s: numpy.mean([\n",
    "        len(w)\n",
    "        for w in words(s)\n",
    "    ]))\n",
    "    .as_matrix()\n",
    "    [:, None]\n",
    ")"
   ]
  },
  {
   "cell_type": "markdown",
   "metadata": {},
   "source": [
    "All of them:"
   ]
  },
  {
   "cell_type": "code",
   "execution_count": 19,
   "metadata": {
    "scrolled": true
   },
   "outputs": [
    {
     "name": "stdout",
     "output_type": "stream",
     "text": [
      "time: 1.84 ms\n"
     ]
    }
   ],
   "source": [
    "basic_features = (\n",
    "    f_n_words,\n",
    "    f_n_unique_words,\n",
    "    f_n_chars,\n",
    "    f_n_stopwords,\n",
    "    f_n_punct,\n",
    "    f_n_upper_words,\n",
    "    f_n_title_words,\n",
    "    f_mean_word_length,\n",
    ")"
   ]
  },
  {
   "cell_type": "code",
   "execution_count": 20,
   "metadata": {},
   "outputs": [
    {
     "name": "stdout",
     "output_type": "stream",
     "text": [
      "time: 94.4 ms\n"
     ]
    }
   ],
   "source": [
    "f_basic_features = numpy.hstack(basic_features)"
   ]
  },
  {
   "cell_type": "markdown",
   "metadata": {},
   "source": [
    "##### Tf-Idf"
   ]
  },
  {
   "cell_type": "code",
   "execution_count": 21,
   "metadata": {},
   "outputs": [
    {
     "name": "stdout",
     "output_type": "stream",
     "text": [
      "time: 149 ms\n"
     ]
    }
   ],
   "source": [
    "from sklearn.feature_extraction.text import TfidfVectorizer"
   ]
  },
  {
   "cell_type": "code",
   "execution_count": 22,
   "metadata": {},
   "outputs": [
    {
     "name": "stdout",
     "output_type": "stream",
     "text": [
      "time: 85.6 ms\n"
     ]
    }
   ],
   "source": [
    "t_tfidf = TfidfVectorizer(stop_words=\"english\", ngram_range=(1, 3))"
   ]
  },
  {
   "cell_type": "code",
   "execution_count": 23,
   "metadata": {},
   "outputs": [
    {
     "name": "stdout",
     "output_type": "stream",
     "text": [
      "time: 3.56 s\n"
     ]
    }
   ],
   "source": [
    "f_tfidf = t_tfidf.fit_transform(data[\"text\"])"
   ]
  },
  {
   "cell_type": "markdown",
   "metadata": {},
   "source": [
    "With SVD:"
   ]
  },
  {
   "cell_type": "code",
   "execution_count": 24,
   "metadata": {},
   "outputs": [
    {
     "name": "stdout",
     "output_type": "stream",
     "text": [
      "time: 417 ms\n"
     ]
    }
   ],
   "source": [
    "from sklearn.decomposition import TruncatedSVD"
   ]
  },
  {
   "cell_type": "code",
   "execution_count": 25,
   "metadata": {},
   "outputs": [
    {
     "name": "stdout",
     "output_type": "stream",
     "text": [
      "time: 725 µs\n"
     ]
    }
   ],
   "source": [
    "n_components = 20"
   ]
  },
  {
   "cell_type": "code",
   "execution_count": 26,
   "metadata": {},
   "outputs": [
    {
     "name": "stdout",
     "output_type": "stream",
     "text": [
      "time: 112 ms\n"
     ]
    }
   ],
   "source": [
    "t_svd = TruncatedSVD(n_components=n_components, algorithm=\"arpack\")"
   ]
  },
  {
   "cell_type": "code",
   "execution_count": 27,
   "metadata": {},
   "outputs": [
    {
     "name": "stdout",
     "output_type": "stream",
     "text": [
      "time: 3.56 s\n"
     ]
    }
   ],
   "source": [
    "f_svd = t_svd.fit_transform(f_tfidf)"
   ]
  },
  {
   "cell_type": "markdown",
   "metadata": {},
   "source": [
    "##### Counters"
   ]
  },
  {
   "cell_type": "code",
   "execution_count": 28,
   "metadata": {},
   "outputs": [
    {
     "name": "stdout",
     "output_type": "stream",
     "text": [
      "time: 790 µs\n"
     ]
    }
   ],
   "source": [
    "from sklearn.feature_extraction.text import CountVectorizer"
   ]
  },
  {
   "cell_type": "code",
   "execution_count": 29,
   "metadata": {},
   "outputs": [
    {
     "name": "stdout",
     "output_type": "stream",
     "text": [
      "time: 96.9 ms\n"
     ]
    }
   ],
   "source": [
    "t_count = CountVectorizer(stop_words=\"english\", ngram_range=(1, 3))"
   ]
  },
  {
   "cell_type": "code",
   "execution_count": 30,
   "metadata": {},
   "outputs": [
    {
     "name": "stdout",
     "output_type": "stream",
     "text": [
      "time: 3.15 s\n"
     ]
    }
   ],
   "source": [
    "f_counts = t_count.fit_transform(data[\"text\"])"
   ]
  },
  {
   "cell_type": "markdown",
   "metadata": {},
   "source": [
    "---"
   ]
  },
  {
   "cell_type": "markdown",
   "metadata": {},
   "source": [
    "### Application"
   ]
  },
  {
   "cell_type": "code",
   "execution_count": 31,
   "metadata": {},
   "outputs": [
    {
     "name": "stdout",
     "output_type": "stream",
     "text": [
      "time: 755 µs\n"
     ]
    }
   ],
   "source": [
    "from sklearn.model_selection import StratifiedKFold"
   ]
  },
  {
   "cell_type": "code",
   "execution_count": 32,
   "metadata": {},
   "outputs": [
    {
     "name": "stdout",
     "output_type": "stream",
     "text": [
      "time: 109 ms\n"
     ]
    }
   ],
   "source": [
    "cv = StratifiedKFold(n_splits=5)"
   ]
  },
  {
   "cell_type": "code",
   "execution_count": 33,
   "metadata": {},
   "outputs": [
    {
     "name": "stdout",
     "output_type": "stream",
     "text": [
      "time: 178 ms\n"
     ]
    }
   ],
   "source": [
    "from sklearn.model_selection import cross_val_predict"
   ]
  },
  {
   "cell_type": "code",
   "execution_count": 34,
   "metadata": {},
   "outputs": [
    {
     "name": "stdout",
     "output_type": "stream",
     "text": [
      "time: 71.9 ms\n"
     ]
    }
   ],
   "source": [
    "from sklearn.metrics import log_loss"
   ]
  },
  {
   "cell_type": "code",
   "execution_count": 35,
   "metadata": {},
   "outputs": [
    {
     "name": "stdout",
     "output_type": "stream",
     "text": [
      "time: 95.5 ms\n"
     ]
    }
   ],
   "source": [
    "import scipy.sparse"
   ]
  },
  {
   "cell_type": "code",
   "execution_count": 36,
   "metadata": {},
   "outputs": [
    {
     "name": "stdout",
     "output_type": "stream",
     "text": [
      "time: 95.3 ms\n"
     ]
    }
   ],
   "source": [
    "def apply_model(\n",
    "    model,\n",
    "    features,\n",
    "    evaluate=True,\n",
    "    predict=False,\n",
    "):\n",
    "    if any(map(\n",
    "        lambda z: type(z) is scipy.sparse.csr_matrix,\n",
    "        features,\n",
    "    )):\n",
    "        hstack = scipy.sparse.hstack\n",
    "    else:\n",
    "        hstack = numpy.hstack\n",
    "    \n",
    "    f_all = hstack(features)\n",
    "    f_train = f_all[numpy.nonzero(i_train)]\n",
    "    f_test = f_all[numpy.nonzero(i_test)]\n",
    "    \n",
    "    p_cv = cross_val_predict(\n",
    "        model,\n",
    "        f_train,\n",
    "        y_train,\n",
    "        cv=cv,\n",
    "        method=\"predict_proba\",\n",
    "    )\n",
    "    q_cv = log_loss(y_train, p_cv)\n",
    "    \n",
    "    model.fit(f_train, y_train)\n",
    "    \n",
    "    p_train = model.predict_proba(f_train)\n",
    "    q_train = log_loss(y_train, p_train)\n",
    "    \n",
    "    if evaluate:\n",
    "        print(f\"train log loss = {q_train:.5f}\")\n",
    "        print(f\"   cv log loss = {q_cv:.5f}\")\n",
    "        print()\n",
    "    \n",
    "    if predict:\n",
    "        p_test = model.predict_proba(f_test)\n",
    "        p_full = numpy.concatenate((p_cv, p_test), axis=0)\n",
    "        return pandas.DataFrame(p_full)"
   ]
  },
  {
   "cell_type": "markdown",
   "metadata": {},
   "source": [
    "---"
   ]
  },
  {
   "cell_type": "markdown",
   "metadata": {},
   "source": [
    "### Models"
   ]
  },
  {
   "cell_type": "markdown",
   "metadata": {},
   "source": [
    "##### Logistic regression"
   ]
  },
  {
   "cell_type": "code",
   "execution_count": 37,
   "metadata": {},
   "outputs": [
    {
     "name": "stdout",
     "output_type": "stream",
     "text": [
      "time: 108 ms\n"
     ]
    }
   ],
   "source": [
    "from sklearn.linear_model import LogisticRegression"
   ]
  },
  {
   "cell_type": "markdown",
   "metadata": {},
   "source": [
    "Basic features:"
   ]
  },
  {
   "cell_type": "code",
   "execution_count": 38,
   "metadata": {},
   "outputs": [
    {
     "name": "stdout",
     "output_type": "stream",
     "text": [
      "train log loss = 1.00201\n",
      "   cv log loss = 1.00285\n",
      "\n",
      "time: 1.04 s\n"
     ]
    }
   ],
   "source": [
    "p_lr_basic = apply_model(\n",
    "    LogisticRegression(max_iter=10),\n",
    "    basic_features,\n",
    "    predict=True,\n",
    ")"
   ]
  },
  {
   "cell_type": "markdown",
   "metadata": {},
   "source": [
    "TF-IDF:"
   ]
  },
  {
   "cell_type": "code",
   "execution_count": 39,
   "metadata": {},
   "outputs": [
    {
     "name": "stdout",
     "output_type": "stream",
     "text": [
      "train log loss = 0.60284\n",
      "   cv log loss = 0.83517\n",
      "\n",
      "time: 8.8 s\n"
     ]
    }
   ],
   "source": [
    "p_lr_tfidf = apply_model(\n",
    "    LogisticRegression(max_iter=10),\n",
    "    (f_tfidf, ),\n",
    "    predict=True,\n",
    ")"
   ]
  },
  {
   "cell_type": "markdown",
   "metadata": {},
   "source": [
    "Counts:"
   ]
  },
  {
   "cell_type": "code",
   "execution_count": 40,
   "metadata": {},
   "outputs": [
    {
     "name": "stdout",
     "output_type": "stream",
     "text": [
      "train log loss = 0.11811\n",
      "   cv log loss = 0.53677\n",
      "\n",
      "time: 18.2 s\n"
     ]
    }
   ],
   "source": [
    "p_lr_counts = apply_model(\n",
    "    LogisticRegression(max_iter=10),\n",
    "    (f_counts, ),\n",
    "    predict=True,\n",
    ")"
   ]
  },
  {
   "cell_type": "markdown",
   "metadata": {},
   "source": [
    "##### Naive Bayes"
   ]
  },
  {
   "cell_type": "code",
   "execution_count": 41,
   "metadata": {},
   "outputs": [
    {
     "name": "stdout",
     "output_type": "stream",
     "text": [
      "time: 28.8 ms\n"
     ]
    }
   ],
   "source": [
    "from sklearn.naive_bayes import MultinomialNB"
   ]
  },
  {
   "cell_type": "markdown",
   "metadata": {},
   "source": [
    "TF-IDF:"
   ]
  },
  {
   "cell_type": "code",
   "execution_count": 42,
   "metadata": {},
   "outputs": [
    {
     "name": "stdout",
     "output_type": "stream",
     "text": [
      "train log loss = 0.46620\n",
      "   cv log loss = 0.84280\n",
      "\n",
      "time: 719 ms\n"
     ]
    }
   ],
   "source": [
    "p_nb_tfidf = apply_model(\n",
    "    MultinomialNB(),\n",
    "    (f_tfidf, ),\n",
    "    predict=True,\n",
    ")"
   ]
  },
  {
   "cell_type": "markdown",
   "metadata": {},
   "source": [
    "Counts:"
   ]
  },
  {
   "cell_type": "code",
   "execution_count": 43,
   "metadata": {},
   "outputs": [
    {
     "name": "stdout",
     "output_type": "stream",
     "text": [
      "train log loss = 0.03011\n",
      "   cv log loss = 0.45322\n",
      "\n",
      "time: 610 ms\n"
     ]
    }
   ],
   "source": [
    "p_nb_counts = apply_model(\n",
    "    MultinomialNB(),\n",
    "    (f_counts, ),\n",
    "    predict=True,\n",
    ")"
   ]
  },
  {
   "cell_type": "markdown",
   "metadata": {},
   "source": [
    "##### XGBoost"
   ]
  },
  {
   "cell_type": "code",
   "execution_count": 44,
   "metadata": {},
   "outputs": [
    {
     "name": "stdout",
     "output_type": "stream",
     "text": [
      "time: 333 ms\n"
     ]
    },
    {
     "name": "stderr",
     "output_type": "stream",
     "text": [
      "/home/mityajj/kaggle/venv36.ds/lib/python3.6/site-packages/sklearn/cross_validation.py:41: DeprecationWarning: This module was deprecated in version 0.18 in favor of the model_selection module into which all the refactored classes and functions are moved. Also note that the interface of the new CV iterators are different from that of this module. This module will be removed in 0.20.\n",
      "  \"This module will be removed in 0.20.\", DeprecationWarning)\n"
     ]
    }
   ],
   "source": [
    "from xgboost import XGBClassifier"
   ]
  },
  {
   "cell_type": "markdown",
   "metadata": {},
   "source": [
    "Basic features:"
   ]
  },
  {
   "cell_type": "code",
   "execution_count": 45,
   "metadata": {
    "scrolled": false
   },
   "outputs": [
    {
     "name": "stdout",
     "output_type": "stream",
     "text": [
      "train log loss = 0.96825\n",
      "   cv log loss = 0.99003\n",
      "\n",
      "time: 2.9 s\n"
     ]
    }
   ],
   "source": [
    "apply_model(\n",
    "    XGBClassifier(n_estimators=100),\n",
    "    basic_features,\n",
    ")"
   ]
  },
  {
   "cell_type": "markdown",
   "metadata": {},
   "source": [
    "SVD:"
   ]
  },
  {
   "cell_type": "code",
   "execution_count": 46,
   "metadata": {},
   "outputs": [
    {
     "name": "stdout",
     "output_type": "stream",
     "text": [
      "train log loss = 0.79868\n",
      "   cv log loss = 0.83843\n",
      "\n",
      "time: 9.58 s\n"
     ]
    }
   ],
   "source": [
    "apply_model(\n",
    "    XGBClassifier(n_estimators=100),\n",
    "    (f_svd, ),\n",
    ")"
   ]
  },
  {
   "cell_type": "markdown",
   "metadata": {},
   "source": [
    "Stack all the things:"
   ]
  },
  {
   "cell_type": "code",
   "execution_count": 47,
   "metadata": {},
   "outputs": [
    {
     "name": "stdout",
     "output_type": "stream",
     "text": [
      "train log loss = 0.34991\n",
      "   cv log loss = 0.38360\n",
      "\n",
      "time: 14.7 s\n"
     ]
    }
   ],
   "source": [
    "p_xgb_final = apply_model(\n",
    "    XGBClassifier(n_estimators=100),\n",
    "    basic_features + (\n",
    "        f_svd,\n",
    "        p_lr_basic,\n",
    "        p_lr_counts,\n",
    "        p_lr_tfidf,\n",
    "        p_nb_counts,\n",
    "        p_nb_tfidf,\n",
    "    ),\n",
    "    predict=True,\n",
    ")"
   ]
  },
  {
   "cell_type": "markdown",
   "metadata": {},
   "source": [
    "---"
   ]
  },
  {
   "cell_type": "markdown",
   "metadata": {},
   "source": [
    "### Submission"
   ]
  },
  {
   "cell_type": "code",
   "execution_count": 48,
   "metadata": {},
   "outputs": [
    {
     "name": "stdout",
     "output_type": "stream",
     "text": [
      "time: 743 µs\n"
     ]
    }
   ],
   "source": [
    "import os.path"
   ]
  },
  {
   "cell_type": "code",
   "execution_count": 49,
   "metadata": {},
   "outputs": [
    {
     "name": "stdout",
     "output_type": "stream",
     "text": [
      "time: 263 ms\n"
     ]
    }
   ],
   "source": [
    "submission_path = os.path.realpath('./output')"
   ]
  },
  {
   "cell_type": "code",
   "execution_count": 50,
   "metadata": {},
   "outputs": [
    {
     "name": "stdout",
     "output_type": "stream",
     "text": [
      "time: 199 ms\n"
     ]
    }
   ],
   "source": [
    "def make_submission(predictions, file_name):\n",
    "    file_name = os.path.join(\n",
    "        submission_path,\n",
    "        os.path.basename(file_name),\n",
    "    )\n",
    "    predictions = predictions.copy()\n",
    "    predictions.columns = y_train.unique()\n",
    "    pandas.concat(\n",
    "        (\n",
    "            data_test[\"id\"].reset_index(drop=True),\n",
    "            predictions[i_test].reset_index(drop=True),\n",
    "        ),\n",
    "        axis=1,\n",
    "    ).to_csv(file_name, index=False)"
   ]
  },
  {
   "cell_type": "code",
   "execution_count": 51,
   "metadata": {},
   "outputs": [
    {
     "name": "stdout",
     "output_type": "stream",
     "text": [
      "time: 176 ms\n"
     ]
    }
   ],
   "source": [
    "make_submission(p_xgb_final, \"xgb_final.csv\")"
   ]
  }
 ],
 "metadata": {
  "kernelspec": {
   "display_name": "Python 3",
   "language": "python",
   "name": "python3"
  },
  "language_info": {
   "codemirror_mode": {
    "name": "ipython",
    "version": 3
   },
   "file_extension": ".py",
   "mimetype": "text/x-python",
   "name": "python",
   "nbconvert_exporter": "python",
   "pygments_lexer": "ipython3",
   "version": "3.6.3"
  }
 },
 "nbformat": 4,
 "nbformat_minor": 2
}
